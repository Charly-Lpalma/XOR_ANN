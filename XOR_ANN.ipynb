{
  "nbformat": 4,
  "nbformat_minor": 0,
  "metadata": {
    "colab": {
      "name": "XOR_ANN.ipynb",
      "provenance": [],
      "collapsed_sections": [],
      "include_colab_link": true
    },
    "kernelspec": {
      "name": "python3",
      "display_name": "Python 3"
    }
  },
  "cells": [
    {
      "cell_type": "markdown",
      "metadata": {
        "id": "view-in-github",
        "colab_type": "text"
      },
      "source": [
        "<a href=\"https://colab.research.google.com/github/maurojp/XOR_ANN/blob/master/XOR_ANN.ipynb\" target=\"_parent\"><img src=\"https://colab.research.google.com/assets/colab-badge.svg\" alt=\"Open In Colab\"/></a>"
      ]
    },
    {
      "cell_type": "code",
      "metadata": {
        "id": "_YHg5h0OcPpR",
        "colab_type": "code",
        "colab": {}
      },
      "source": [
        "# Seleccionamos Tensorflow 2.0\n",
        "try:\n",
        "  # El comando %tensorflow_version solo existe en Colaboratory. Es un MAGIC COMMAND.\n",
        "  %tensorflow_version 2.x\n",
        "except Exception:\n",
        "  pass"
      ],
      "execution_count": 0,
      "outputs": []
    },
    {
      "cell_type": "code",
      "metadata": {
        "id": "1mse20AXcl6l",
        "colab_type": "code",
        "colab": {}
      },
      "source": [
        "# Preparamos el entorno\n",
        "import matplotlib.pyplot as plt\n",
        "import numpy as np\n",
        "from tensorflow import keras\n",
        "from tensorflow.keras import layers"
      ],
      "execution_count": 0,
      "outputs": []
    },
    {
      "cell_type": "code",
      "metadata": {
        "id": "YkOyFFDzdHD6",
        "colab_type": "code",
        "colab": {}
      },
      "source": [
        "# Dataset de entrenamiento para puerta XOR\n",
        "x_train = np.array([[0,0],[0,1],[1,0],[1,1]], dtype = \"float32\")\n",
        "y_train = np.array([[0],[1],[1],[0]], dtype = \"float32\")"
      ],
      "execution_count": 0,
      "outputs": []
    },
    {
      "cell_type": "code",
      "metadata": {
        "id": "Ylkzes55eHEf",
        "colab_type": "code",
        "colab": {}
      },
      "source": [
        "# Modelo MLP\n",
        "model = keras.Sequential()\n",
        "model.add(layers.Dense(2, input_dim = 2, activation = 'relu'))\n",
        "model.add(layers.Dense(1, activation = 'sigmoid'))"
      ],
      "execution_count": 0,
      "outputs": []
    },
    {
      "cell_type": "code",
      "metadata": {
        "id": "KTS80q4NiZ3d",
        "colab_type": "code",
        "colab": {}
      },
      "source": [
        "# Comfiguracion del Modelo\n",
        "model.compile(optimizer = keras.optimizers.Adam(0.01), loss='mean_squared_error', metrics = ['accuracy'])"
      ],
      "execution_count": 0,
      "outputs": []
    },
    {
      "cell_type": "code",
      "metadata": {
        "id": "JVlWBS1GjULa",
        "colab_type": "code",
        "colab": {}
      },
      "source": [
        "# Entrenamiento\n",
        "fit_history = model.fit(x_train, y_train, epochs = 400, batch_size = 1)"
      ],
      "execution_count": 0,
      "outputs": []
    },
    {
      "cell_type": "code",
      "metadata": {
        "id": "3LFcibNAmL3a",
        "colab_type": "code",
        "colab": {}
      },
      "source": [
        "loss_curve = fit_history.history['loss']\n",
        "accuracy_curve = fit_history.history['accuracy']\n",
        "plt.plot(accuracy_curve, label = 'Precisión')\n",
        "plt.plot(loss_curve, label = 'Perdida')\n",
        "plt.legend(loc = 'lower left')\n",
        "plt.title('Resultado del Entrenamiento')\n",
        "plt.show"
      ],
      "execution_count": 0,
      "outputs": []
    },
    {
      "cell_type": "code",
      "metadata": {
        "id": "bwvLYfoFnJla",
        "colab_type": "code",
        "colab": {}
      },
      "source": [
        "# Recuperamos bias and weights de la capa oculta\n",
        "weights_HL, biases_HL = model.layers[0].get_weights()\n",
        "# Recuperamos bias and weights de la capa de salida\n",
        "weights_OL, biases_OL = model.layers[1].get_weights()"
      ],
      "execution_count": 0,
      "outputs": []
    },
    {
      "cell_type": "code",
      "metadata": {
        "id": "yjxTPf6iQ5Qu",
        "colab_type": "code",
        "colab": {}
      },
      "source": [
        "weights_HL, biases_HL"
      ],
      "execution_count": 0,
      "outputs": []
    },
    {
      "cell_type": "code",
      "metadata": {
        "id": "cO2971u2Remz",
        "colab_type": "code",
        "colab": {}
      },
      "source": [
        "weights_OL, biases_OL"
      ],
      "execution_count": 0,
      "outputs": []
    }
  ]
}